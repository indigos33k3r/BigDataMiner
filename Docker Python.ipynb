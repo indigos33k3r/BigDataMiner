{
 "metadata": {
  "name": "",
  "signature": "sha256:4bb90061bc0af52e1935fe83133fd13e805665e48d9d4ebaaa3905ba7c110d80"
 },
 "nbformat": 3,
 "nbformat_minor": 0,
 "worksheets": [
  {
   "cells": [
    {
     "cell_type": "heading",
     "level": 1,
     "metadata": {},
     "source": [
      "Docker Python"
     ]
    },
    {
     "cell_type": "code",
     "collapsed": false,
     "input": [
      "# Tutorial\n",
      "\n",
      "from IPython.core.display import HTML\n",
      "# https://www.digitalocean.com/community/tutorials/docker-explained-how-to-containerize-python-web-applications\n",
      "HTML(\"<iframe src=https://www.digitalocean.com/community/tutorials/docker-explained-how-to-containerize-python-web-applications </iframe>\")"
     ],
     "language": "python",
     "metadata": {},
     "outputs": []
    },
    {
     "cell_type": "code",
     "collapsed": false,
     "input": [
      "# Tutorial - Create a Docker Image for a Python App\n",
      "\n",
      "from IPython.core.display import HTML\n",
      "# https://learn.tutum.co/tag/1/python/getting-started/1/creating-an-image-for-your-python-app\n",
      "HTML(\"<iframe src=learn.tutum.co/tag/1/python/getting-started/1/creating-an-image-for-your-python-app </iframe>\")"
     ],
     "language": "python",
     "metadata": {},
     "outputs": []
    },
    {
     "cell_type": "code",
     "collapsed": false,
     "input": [
      "# Docker API\n",
      "\n",
      "from IPython.core.display import HTML\n",
      "# https://github.com/docker/docker-py\n",
      "HTML(\"<iframe src=https://github.com/docker/docker-py </iframe>\")"
     ],
     "language": "python",
     "metadata": {},
     "outputs": []
    },
    {
     "cell_type": "heading",
     "level": 2,
     "metadata": {},
     "source": [
      "Install Docker"
     ]
    },
    {
     "cell_type": "code",
     "collapsed": false,
     "input": [
      "# Docker-py\n",
      "\n",
      "pip install docker-py"
     ],
     "language": "python",
     "metadata": {},
     "outputs": []
    },
    {
     "cell_type": "code",
     "collapsed": false,
     "input": [
      "#Pull Python from a Docker Image\n",
      "\n",
      "$ docker pull python"
     ],
     "language": "python",
     "metadata": {},
     "outputs": []
    },
    {
     "cell_type": "code",
     "collapsed": false,
     "input": [
      "$ sudo apt-get install docker.io\n",
      "\n",
      "$ alias docker='docker.io'\n",
      "$ docker version\n",
      "Client version: 0.9.1\n",
      "Go version (client): go1.2.1\n",
      "Git commit (client): 3600720\n",
      "Server version: 0.9.1\n",
      "Git commit (server): 3600720\n",
      "Go version (server): go1.2.1\n",
      "Last stable version: 0.11.1, please update docker"
     ],
     "language": "python",
     "metadata": {},
     "outputs": []
    },
    {
     "cell_type": "code",
     "collapsed": false,
     "input": [
      "#!/usr/bin/env python\n",
      "import os\n",
      "import sys\n",
      "from setuptools import setup\n",
      "\n",
      "ROOT_DIR = os.path.dirname(__file__)\n",
      "SOURCE_DIR = os.path.join(ROOT_DIR)\n",
      "\n",
      "requirements = [\n",
      "    'requests >= 2.2.1, < 2.5.0',\n",
      "    'six >= 1.3.0',\n",
      "]\n",
      "\n",
      "if sys.version_info[0] < 3:\n",
      "    requirements.append('websocket-client >= 0.11.0')\n",
      "\n",
      "exec(open('docker/version.py').read())\n",
      "\n",
      "with open('./test-requirements.txt') as test_reqs_txt:\n",
      "    test_requirements = [line for line in test_reqs_txt]\n",
      "\n",
      "\n",
      "setup(\n",
      "    name=\"docker-py\",\n",
      "    version=version,\n",
      "    description=\"Python client for Docker.\",\n",
      "    packages=['docker', 'docker.auth', 'docker.unixconn', 'docker.utils',\n",
      "              'docker.ssladapter'],\n",
      "    install_requires=requirements,\n",
      "    tests_require=test_requirements,\n",
      "    zip_safe=False,\n",
      "    test_suite='tests',\n",
      "    classifiers=[\n",
      "        'Development Status :: 4 - Beta',\n",
      "        'Environment :: Other Environment',\n",
      "        'Intended Audience :: Developers',\n",
      "        'Operating System :: OS Independent',\n",
      "        'Programming Language :: Python',\n",
      "        'Programming Language :: Python :: 2.6',\n",
      "        'Programming Language :: Python :: 2.7',\n",
      "        'Programming Language :: Python :: 3.2',\n",
      "        'Programming Language :: Python :: 3.3',\n",
      "        'Programming Language :: Python :: 3.4',\n",
      "        'Topic :: Utilities',\n",
      "        'License :: OSI Approved :: Apache Software License',"
     ],
     "language": "python",
     "metadata": {},
     "outputs": []
    },
    {
     "cell_type": "heading",
     "level": 2,
     "metadata": {},
     "source": [
      "Install iPython in Ubuntu"
     ]
    },
    {
     "cell_type": "code",
     "collapsed": false,
     "input": [
      "# Ubuntu\n",
      "\n",
      "$ sudo apt-get install ipython\n",
      "SNIP!\n",
      "$ ipython\n",
      "Python 2.7.6 (default, Mar 22 2014, 22:59:56) \n",
      "Type \"copyright\", \"credits\" or \"license\" for more information.\n",
      "\n",
      "IPython 1.2.1 -- An enhanced Interactive Python.\n",
      "?         -> Introduction and overview of IPython's features.\n",
      "%quickref -> Quick reference.\n",
      "help      -> Python's own help system.\n",
      "object?   -> Details about 'object', use 'object??' for extra details."
     ],
     "language": "python",
     "metadata": {},
     "outputs": []
    },
    {
     "cell_type": "heading",
     "level": 2,
     "metadata": {},
     "source": [
      "Dockerize a Python Web App in AWS"
     ]
    },
    {
     "cell_type": "code",
     "collapsed": false,
     "input": [
      "from IPython.core.display import HTML\n",
      "# http://blogs.aws.amazon.com/application-management/post/Tx1ZLAHMVBEDCOC/Dockerizing-a-Python-Web-App\n",
      "HTML(\"<iframe src=http://blogs.aws.amazon.com/application-management/post/Tx1ZLAHMVBEDCOC/Dockerizing-a-Python-Web-App </iframe>\")"
     ],
     "language": "python",
     "metadata": {},
     "outputs": []
    },
    {
     "cell_type": "heading",
     "level": 2,
     "metadata": {},
     "source": [
      "Start iPython and Import Docker"
     ]
    },
    {
     "cell_type": "code",
     "collapsed": false,
     "input": [
      "$ ipython\n",
      "Python 2.7.6 (default, Mar 22 2014, 22:59:56) \n",
      "Type \"copyright\", \"credits\" or \"license\" for more information.\n",
      "\n",
      "IPython 1.2.1 -- An enhanced Interactive Python.\n",
      "?         -> Introduction and overview of IPython's features.\n",
      "%quickref -> Quick reference.\n",
      "help      -> Python's own help system.\n",
      "object?   -> Details about 'object', use 'object??' for extra details."
     ],
     "language": "python",
     "metadata": {},
     "outputs": []
    },
    {
     "cell_type": "heading",
     "level": 2,
     "metadata": {},
     "source": [
      "Pull BusyBox Image"
     ]
    },
    {
     "cell_type": "code",
     "collapsed": false,
     "input": [
      "$ docker pull busybox"
     ],
     "language": "python",
     "metadata": {},
     "outputs": []
    },
    {
     "cell_type": "code",
     "collapsed": false,
     "input": [
      "c.images(name=\"busybox\")"
     ],
     "language": "python",
     "metadata": {},
     "outputs": []
    },
    {
     "cell_type": "code",
     "collapsed": false,
     "input": [
      "import docker"
     ],
     "language": "python",
     "metadata": {},
     "outputs": []
    },
    {
     "cell_type": "heading",
     "level": 2,
     "metadata": {},
     "source": [
      "Docker Socket"
     ]
    },
    {
     "cell_type": "code",
     "collapsed": false,
     "input": [
      "$ ls /var/run/docker.sock \n",
      "/var/run/docker.sock"
     ],
     "language": "python",
     "metadata": {},
     "outputs": []
    },
    {
     "cell_type": "heading",
     "level": 2,
     "metadata": {},
     "source": [
      "Connect to Docker"
     ]
    },
    {
     "cell_type": "code",
     "collapsed": false,
     "input": [
      "c = docker.Client(base_url='unix://var/run/docker.sock',\n",
      "   ...:                   version='1.9',\n",
      "   ...:                   timeout=10)"
     ],
     "language": "python",
     "metadata": {},
     "outputs": []
    },
    {
     "cell_type": "heading",
     "level": 2,
     "metadata": {},
     "source": [
      "Create a Container"
     ]
    },
    {
     "cell_type": "code",
     "collapsed": false,
     "input": [
      "c.create_container(image=\"busybox\", command=\"env\")\n",
      "\n",
      "#Out[8]: {u'Id': u'584459a09e6d4180757cb5c10ac354ca46a32bf8e122fa3fb71566108f330c87',\n",
      " u'Warnings': None}"
     ],
     "language": "python",
     "metadata": {},
     "outputs": []
    },
    {
     "cell_type": "heading",
     "level": 2,
     "metadata": {},
     "source": [
      "Start Container using ID"
     ]
    },
    {
     "cell_type": "code",
     "collapsed": false,
     "input": [
      "c.start(container=\"584459a09e6d4180757cb5c10ac354ca46a32bf8e122fa3fb71566108f330c87\")"
     ],
     "language": "python",
     "metadata": {},
     "outputs": []
    },
    {
     "cell_type": "code",
     "collapsed": false,
     "input": [
      "$ docker run busybox env"
     ],
     "language": "python",
     "metadata": {},
     "outputs": []
    }
   ],
   "metadata": {}
  }
 ]
}