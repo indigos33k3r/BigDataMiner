{
 "metadata": {
  "name": "",
  "signature": "sha256:419a75cebebeafa62884639f22256acc675f65563065953defcbd2cad271ec62"
 },
 "nbformat": 3,
 "nbformat_minor": 0,
 "worksheets": [
  {
   "cells": [
    {
     "cell_type": "heading",
     "level": 1,
     "metadata": {},
     "source": [
      "AML Analytics Test"
     ]
    },
    {
     "cell_type": "code",
     "collapsed": false,
     "input": [
      "ls"
     ],
     "language": "python",
     "metadata": {},
     "outputs": [
      {
       "output_type": "stream",
       "stream": "stdout",
       "text": [
        "AML Test.ipynb         Parallel_processing.py     install-apache.sh.txt\r\n",
        "Beautifulsoup_Test.py  Scatterplot Sandbox.ipynb  mechanize.py\r\n",
        "Import_csv.py          TestData.csv               \u001b[0m\u001b[01;34mscripts\u001b[0m/\r\n",
        "MRJob.py               fig1.png                   \u001b[01;34mwakaripython\u001b[0m/\r\n",
        "\u001b[m"
       ]
      }
     ],
     "prompt_number": 1
    },
    {
     "cell_type": "code",
     "collapsed": false,
     "input": [
      "#Data Mine\n",
      "#http://youtu.be/p8hle-ni-DM\n",
      "#http://youtu.be/eRpFC2CKvao?list=PLyBBc46Y6aAz54aOUgKXXyTcEmpMisAq3\n",
      "\n",
      "#Data = TestData.csv or <'Dataset.csv'>\n",
      "%matplotlib inline\n",
      "import pandas as pd\n",
      "import pylab as pl\n",
      "import matplotlib.pyplot as plt\n",
      "import numpy as np\n",
      "from pandas import *\n",
      "from pylab import *\n",
      "\n",
      "# Set some Pandas options\n",
      "pd.set_option('display.notebook_repr_html', False)\n",
      "pd.set_option('display.max_columns', 20)\n",
      "pd.set_option('display.max_rows', 25)\n",
      "\n",
      "#Get Data\n",
      "testdata=open('TestData.csv')\n",
      "\n",
      "#Read csv\n",
      "testdata=pd.read_csv('TestData.csv')\n",
      "\n",
      "#View .head\n",
      "testdata.head()"
     ],
     "language": "python",
     "metadata": {},
     "outputs": [
      {
       "metadata": {},
       "output_type": "pyout",
       "prompt_number": 2,
       "text": [
        "   1  AccountNo_t   Amount_t                                   BBI_t  \\\n",
        "0  2    326001432  13,175.00                                     NaN   \n",
        "1  3     18604455   2,584.60                                     NaN   \n",
        "2  4     20038151  49,988.00  {6500}/ACC/ BOC NY LESS COMM USD 12.00   \n",
        "3  5     20038151  49,988.00  {6500}/ACC/ BOC NY LESS COMM USD 12.00   \n",
        "4  6   7680011476  10,068.00                                     NaN   \n",
        "\n",
        "  BeneBank_t                        Beneficiary_t BNFADDR1_t BNFADDR2_t  \\\n",
        "0        NaN  ARCHINET DESIGNERS AND PLANNERS INC        NaN        NaN   \n",
        "1        NaN               UNITED SHEETMETAL, INC        NaN        NaN   \n",
        "2        NaN                          JINLONG HAN        NaN        NaN   \n",
        "3        NaN                          JINLONG HAN        NaN        NaN   \n",
        "4        NaN                        HSIN-HUA TENG        NaN        NaN   \n",
        "\n",
        "  BNFADDR3_t     BNFID_t ... REFIMAD_t       Reference_t SenderABA_t  \\\n",
        "0        NaN   326001432 ...       NaN   USO130331000289    26014685   \n",
        "1        NaN    18604455 ...       NaN    S063091044AC01    21000089   \n",
        "2        NaN    20038151 ...       NaN  130401MS70060700    26003269   \n",
        "3        NaN    20038151 ...       NaN  130401MS70056200    26003269   \n",
        "4        NaN  7680011476 ...       NaN          2.01E+15    26009593   \n",
        "\n",
        "         SenderName_t PaymtSource_t   Time_t  UserID_t  ValueDate_t  \\\n",
        "0  CHINA CONSTRUCTION           FLS  9:25:47     JANEZ  4/1/13 0:00   \n",
        "1         CITIBANK NA           FLS  9:25:40     JIANY  4/1/13 0:00   \n",
        "2                 NaN           FLS  9:25:32     JANEZ  4/1/13 0:00   \n",
        "3                 NaN           FLS  9:25:23     JANEZ  4/1/13 0:00   \n",
        "4         BK AMER NYC           FLS  9:25:16     JIANY  4/1/13 0:00   \n",
        "\n",
        "                createdate  NA  \n",
        "0  2013-04-01T09:25:00.00Z NaN  \n",
        "1  2013-04-01T09:25:00.00Z NaN  \n",
        "2  2013-04-01T09:25:00.00Z NaN  \n",
        "3  2013-04-01T09:25:00.00Z NaN  \n",
        "4  2013-04-01T09:25:00.00Z NaN  \n",
        "\n",
        "[5 rows x 45 columns]"
       ]
      }
     ],
     "prompt_number": 2
    },
    {
     "cell_type": "code",
     "collapsed": false,
     "input": [
      "#View .tail\n",
      "testdata.tail()"
     ],
     "language": "python",
     "metadata": {},
     "outputs": [
      {
       "metadata": {},
       "output_type": "pyout",
       "prompt_number": 3,
       "text": [
        "        1  AccountNo_t    Amount_t BBI_t BeneBank_t  \\\n",
        "994   996      8600821  379,412.62   NaN        NaN   \n",
        "995   997   2000470238   61,460.53   NaN        NaN   \n",
        "996   998   2000470238    4,385.00   NaN        NaN   \n",
        "997   999     22610472    7,265.00   NaN        NaN   \n",
        "998  1000     18302262  291,646.59   NaN        NaN   \n",
        "\n",
        "                      Beneficiary_t                   BNFADDR1_t  \\\n",
        "994               SIG INTERNATIONAL                          NaN   \n",
        "995       WEDGEWOOD ENTERPRISE CORP                          NaN   \n",
        "996                   SCOTTRADE INC                          NaN   \n",
        "997                U.S. TAMEX CORP.   12910 MULBERRY DR., UNIT A   \n",
        "998  FARADAY TECHNOLOGY CORPORATION  3945 FREEDOM CIRCLE STE 200   \n",
        "\n",
        "                BNFADDR2_t BNFADDR3_t     BNFID_t ... REFIMAD_t  \\\n",
        "994                    NaN        NaN     8600821 ...       NaN   \n",
        "995                    NaN        NaN  3252100000 ...       NaN   \n",
        "996                    NaN        NaN     8611343 ...       NaN   \n",
        "997                WHITIER   90602 US    22610472 ...       NaN   \n",
        "998  SANTA CLARA, CA 95054        NaN    18302262 ...       NaN   \n",
        "\n",
        "          Reference_t SenderABA_t       SenderName_t PaymtSource_t    Time_t  \\\n",
        "994    S063107192CE01    21000089        CITIBANK NA           FLS  12:01:13   \n",
        "995          2.01E+15   121100782            BK WEST           NaN  12:01:18   \n",
        "996  GDGUS3336026724H    26014591  INDUSTRIAL & COMM           NaN  13:56:10   \n",
        "997          2.01E+15    26009593        BK AMER NYC           NaN  13:58:04   \n",
        "998    LCT31060661200    21000089        CITIBANK NA           FLS  13:58:26   \n",
        "\n",
        "     UserID_t   ValueDate_t               createdate  NA  \n",
        "994     JIANY  4/17/13 0:00  2013-04-17T12:01:00.00Z NaN  \n",
        "995  ZHAOXIAC  4/17/13 0:00  2013-04-17T12:01:00.00Z NaN  \n",
        "996     JIANY  4/16/13 0:00  2013-04-16T13:56:00.00Z NaN  \n",
        "997     JIANY  4/16/13 0:00  2013-04-16T13:58:00.00Z NaN  \n",
        "998     JIANY  4/16/13 0:00  2013-04-16T13:58:00.00Z NaN  \n",
        "\n",
        "[5 rows x 45 columns]"
       ]
      }
     ],
     "prompt_number": 3
    },
    {
     "cell_type": "heading",
     "level": 2,
     "metadata": {},
     "source": [
      "Create DataFrame"
     ]
    },
    {
     "cell_type": "code",
     "collapsed": false,
     "input": [
      "%matplotlib inline\n",
      "import pandas as pd\n",
      "import pylab as pl\n",
      "import matplotlib.pyplot as plt\n",
      "import numpy as np\n",
      "from pandas import *\n",
      "from pylab import *\n",
      "\n",
      "# Set some Pandas options\n",
      "pd.set_option('display.notebook_repr_html', False)\n",
      "pd.set_option('display.max_columns', 20)\n",
      "pd.set_option('display.max_rows', 25)\n",
      "\n",
      "#Dataframe\n",
      "df = pd.DataFrame(data = testdata, columns=['AccountNo_t', 'Amount_t'])\n",
      "df\n",
      "\n",
      "#Use .head and .tail; or df.describe()\n",
      "df.head()"
     ],
     "language": "python",
     "metadata": {},
     "outputs": [
      {
       "metadata": {},
       "output_type": "pyout",
       "prompt_number": 4,
       "text": [
        "   AccountNo_t   Amount_t\n",
        "0    326001432  13,175.00\n",
        "1     18604455   2,584.60\n",
        "2     20038151  49,988.00\n",
        "3     20038151  49,988.00\n",
        "4   7680011476  10,068.00"
       ]
      }
     ],
     "prompt_number": 4
    },
    {
     "cell_type": "heading",
     "level": 2,
     "metadata": {},
     "source": [
      "Create Simple Test Plot"
     ]
    },
    {
     "cell_type": "code",
     "collapsed": false,
     "input": [
      "%matplotlib inline\n",
      "import pandas as pd\n",
      "import pylab as pl\n",
      "import matplotlib.pyplot as plt\n",
      "import numpy as np\n",
      "from pandas import *\n",
      "from pylab import *\n",
      "\n",
      "#Load Data Source\n",
      "testdata=pd.read_csv('TestData.csv')\n",
      "\n",
      "#Build Dataframe\n",
      "df = pd.DataFrame(data = testdata, columns=['AccountNo_t', 'Amount_t'])\n",
      "df\n",
      "\n",
      "#Create SimplePlot\n",
      "figure()\n",
      "df.plot()\n",
      "xlabel('AccountNo_t')\n",
      "ylabel('Amount')\n",
      "title('AccountNo_t vs Amount')\n",
      "show()  "
     ],
     "language": "python",
     "metadata": {},
     "outputs": [
      {
       "metadata": {},
       "output_type": "display_data",
       "text": [
        "<matplotlib.figure.Figure at 0x7f83927db990>"
       ]
      },
      {
       "metadata": {},
       "output_type": "display_data",
       "png": "[encoded data removed]",
       "text": [
        "<matplotlib.figure.Figure at 0x7f8391e0f650>"
       ]
      }
     ],
     "prompt_number": 5
    },
    {
     "cell_type": "heading",
     "level": 2,
     "metadata": {},
     "source": [
      "Create plot with matplotlib object-oriented API"
     ]
    },
    {
     "cell_type": "code",
     "collapsed": false,
     "input": [
      "from IPython.core.display import HTML\n",
      "#http://nbviewer.ipython.org/github/jrjohansson/scientific-python-lectures/blob/master/Lecture-4-Matplotlib.ipynb\n",
      "HTML(\"<iframe src=http://nbviewer.ipython.org/github/jrjohansson/scientific-python-lectures/blob/master/Lecture-4-Matplotlib.ipynb width=400 height=350></iframe>\")  "
     ],
     "language": "python",
     "metadata": {},
     "outputs": []
    },
    {
     "cell_type": "code",
     "collapsed": false,
     "input": [
      "%matplotlib inline\n",
      "import pandas as pd\n",
      "import pylab as pl\n",
      "import matplotlib.pyplot as plt\n",
      "import numpy as np\n",
      "from pandas import *\n",
      "from pylab import *\n",
      "\n",
      "#Load Data Source\n",
      "testdata=pd.read_csv('TestData.csv')\n",
      "\n",
      "#Build Dataframe\n",
      "df = pd.DataFrame(data = testdata, columns=['AccountNo_t', 'Amount_t'])\n",
      "df\n",
      "\n",
      "#Create Plot with matplotlib object-oriented API\n",
      "\n",
      "#Declare 'fig1' variable assign 'plt.figure()' value\n",
      "fig1 = plt.figure(figsize=(8,4), dpi=200)\n",
      "\n",
      "df.plot()\n",
      "xlabel('AccountNo')\n",
      "ylabel('Amount')\n",
      "title('AccountNo vs Amount')\n",
      "plt.show()\n",
      "\n",
      "plt.iplot(df_to_iplot(df))\n",
      "\n",
      "#Save fig\n",
      "fig1.savefig(\"fig1.png\", dpi=200)"
     ],
     "language": "python",
     "metadata": {},
     "outputs": [],
     "prompt_number": 2
    },
    {
     "cell_type": "heading",
     "level": 2,
     "metadata": {},
     "source": [
      "Create Filter where 'Amount' <= 10000"
     ]
    },
    {
     "cell_type": "code",
     "collapsed": false,
     "input": [
      "%matplotlib inline\n",
      "import pandas as pd\n",
      "import pylab as pl\n",
      "import matplotlib.pyplot as plt\n",
      "import numpy as np\n",
      "from pandas import *\n",
      "from pylab import *\n",
      "\n",
      "#Read Data Source\n",
      "testdata=pd.read_csv('TestData.csv')\n",
      "\n",
      "#Build Dataframe\n",
      "df = pd.DataFrame(data = testdata, columns=['AccountNo_t', 'Amount_t'])\n",
      "\n",
      "#Create Filter\n",
      "df[df['Amount_t']<='10000']\n",
      "\n",
      "\n",
      "#Create Plot with matplotlib object-oriented API\n",
      "\n",
      "#Declare 'fig1' variable assign 'plt.figure()' value\n",
      "fig1 = plt.figure(figsize=(8,4), dpi=200)\n",
      "\n",
      "df.plot()\n",
      "xlabel('AccountNo')\n",
      "ylabel('Amount')\n",
      "title('AccountNo vs Amount')\n",
      "plt.show()\n",
      "\n",
      "#Save fig\n",
      "fig1.savefig(\"fig1.png\", dpi=200)"
     ],
     "language": "python",
     "metadata": {},
     "outputs": [
      {
       "metadata": {},
       "output_type": "display_data",
       "text": [
        "<matplotlib.figure.Figure at 0x7f1ec9c92990>"
       ]
      },
      {
       "metadata": {},
       "output_type": "display_data",
       "png": "[encoded data removed]",
       "text": [
        "<matplotlib.figure.Figure at 0x7f1ec9232ed0>"
       ]
      }
     ],
     "prompt_number": 1
    },
    {
     "cell_type": "heading",
     "level": 2,
     "metadata": {},
     "source": [
      "Declare DataFrame Variables"
     ]
    },
    {
     "cell_type": "code",
     "collapsed": false,
     "input": [
      "%matplotlib inline\n",
      "import pandas as pd\n",
      "import pylab as pl\n",
      "import matplotlib.pyplot as plt\n",
      "import numpy as np\n",
      "from pandas import *\n",
      "from pylab import *\n",
      "\n",
      "#Read Data Source\n",
      "testdata=pd.read_csv('TestData.csv')\n",
      "\n",
      "#Build Dataframe\n",
      "df = pd.DataFrame(data = testdata, columns=['AccountNo_t', 'Amount_t'])\n",
      "\n",
      "#Create Filter\n",
      "df[df['Amount_t']<='10000']\n",
      "\n",
      "#Declare DataFrame Variables\n",
      "df['Amount_t'].describe()\n",
      "Amount = ('Amount_t')\n",
      "Volume = count('AccountNo_t')\n",
      "grouping -df.groupby['AccountNo_t']\n",
      "x = 'Volume'\n",
      "y = 'Amount'\n",
      "                     \n",
      "#Slicing\n",
      "df.ix[0:, ['Volume', 'Amount']]\n",
      "\n",
      "\n",
      "#Use .head and .tail\n",
      "df.head()"
     ],
     "language": "python",
     "metadata": {},
     "outputs": []
    },
    {
     "cell_type": "heading",
     "level": 2,
     "metadata": {},
     "source": [
      "Basic Search"
     ]
    },
    {
     "cell_type": "code",
     "collapsed": false,
     "input": [
      "#Search\n",
      "data['AccountNo_t']=='1020234'"
     ],
     "language": "python",
     "metadata": {},
     "outputs": [],
     "prompt_number": 3
    },
    {
     "cell_type": "heading",
     "level": 2,
     "metadata": {},
     "source": [
      "Scatter Plot Test"
     ]
    },
    {
     "cell_type": "code",
     "collapsed": false,
     "input": [
      "#Scatter plot\n",
      "%matplotlib inline\n",
      "import pandas as pd\n",
      "import pylab as pl\n",
      "import matplotlib.pyplot as plt\n",
      "import numpy as np\n",
      "from pandas import *\n",
      "from pylab import *\n",
      "\n",
      "#Read Data Source\n",
      "testdata=pd.read_csv('TestData.csv')\n",
      "\n",
      "#Build Dataframe\n",
      "df = pd.DataFrame(data = testdata, columns=['AccountNo_t', 'Amount_t'])\n",
      "\n",
      "#Declare 'fig2' variable assign 'plt.figure()' value\n",
      "fig2 = plt.figure(figsize=(8,4), dpi=200)\n",
      "\n",
      "#Create Random Scatter Plot\n",
      "N = 50\n",
      "x = np.random.rand(N)\n",
      "y = np.random.rand(N)\n",
      "colors = np.random.rand(N)\n",
      "area = np.pi * (15 * np.random.rand(N))**2 # 0 to 15 point radiuses\n",
      "\n",
      "plt.scatter(x, y, s=area, c=colors, alpha=0.5)\n",
      "plt.show()\n",
      "\n",
      "#Save fig\n",
      "fig2.savefig(\"fig2.png\", dpi=200)"
     ],
     "language": "python",
     "metadata": {},
     "outputs": [
      {
       "metadata": {},
       "output_type": "display_data",
       "png": "[encoded data removed]",
       "text": [
        "<matplotlib.figure.Figure at 0x7fe6f280ab10>"
       ]
      }
     ],
     "prompt_number": 1
    },
    {
     "cell_type": "code",
     "collapsed": false,
     "input": [
      "#Scatter plot\n",
      "%matplotlib inline\n",
      "import pandas as pd\n",
      "import pylab as pl\n",
      "import matplotlib.pyplot as plt\n",
      "import numpy as np\n",
      "from pandas import *\n",
      "from pylab import *\n",
      "\n",
      "#Load Data Source\n",
      "testdata=pd.read_csv('TestData.csv')\n",
      "\n",
      "#Build Dataframe\n",
      "df = pd.DataFrame(data = testdata, columns=['AccountNo_t', 'Amount_t'])\n",
      "\n",
      "# Plot outputs\n",
      "pl.scatter(x, y, color='red')\n",
      "pl.plot(x, regr.predict(x), color='blue', linewidth=3)\n",
      "\n",
      "pl.xticks(())\n",
      "pl.yticks(())\n",
      "\n",
      "pl.show()"
     ],
     "language": "python",
     "metadata": {},
     "outputs": [
      {
       "ename": "ValueError",
       "evalue": "could not convert string to float: AccountNo_t",
       "output_type": "pyerr",
       "traceback": [
        "\u001b[1;31m---------------------------------------------------------------------------\u001b[0m\n\u001b[1;31mValueError\u001b[0m                                Traceback (most recent call last)",
        "\u001b[1;32m<ipython-input-1-fb072f9ac789>\u001b[0m in \u001b[0;36m<module>\u001b[1;34m()\u001b[0m\n\u001b[0;32m     17\u001b[0m \u001b[1;33m\u001b[0m\u001b[0m\n\u001b[0;32m     18\u001b[0m \u001b[1;31m# Plot outputs\u001b[0m\u001b[1;33m\u001b[0m\u001b[1;33m\u001b[0m\u001b[0m\n\u001b[1;32m---> 19\u001b[1;33m \u001b[0mpl\u001b[0m\u001b[1;33m.\u001b[0m\u001b[0mscatter\u001b[0m\u001b[1;33m(\u001b[0m\u001b[0mx\u001b[0m\u001b[1;33m,\u001b[0m \u001b[0my\u001b[0m\u001b[1;33m,\u001b[0m \u001b[0mcolor\u001b[0m\u001b[1;33m=\u001b[0m\u001b[1;34m'red'\u001b[0m\u001b[1;33m)\u001b[0m\u001b[1;33m\u001b[0m\u001b[0m\n\u001b[0m\u001b[0;32m     20\u001b[0m \u001b[0mpl\u001b[0m\u001b[1;33m.\u001b[0m\u001b[0mplot\u001b[0m\u001b[1;33m(\u001b[0m\u001b[0mx\u001b[0m\u001b[1;33m,\u001b[0m \u001b[0mregr\u001b[0m\u001b[1;33m.\u001b[0m\u001b[0mpredict\u001b[0m\u001b[1;33m(\u001b[0m\u001b[0mx\u001b[0m\u001b[1;33m)\u001b[0m\u001b[1;33m,\u001b[0m \u001b[0mcolor\u001b[0m\u001b[1;33m=\u001b[0m\u001b[1;34m'blue'\u001b[0m\u001b[1;33m,\u001b[0m \u001b[0mlinewidth\u001b[0m\u001b[1;33m=\u001b[0m\u001b[1;36m3\u001b[0m\u001b[1;33m)\u001b[0m\u001b[1;33m\u001b[0m\u001b[0m\n\u001b[0;32m     21\u001b[0m \u001b[1;33m\u001b[0m\u001b[0m\n",
        "\u001b[1;32m/opt/anaconda/envs/np18py27-1.9/lib/python2.7/site-packages/matplotlib/pyplot.pyc\u001b[0m in \u001b[0;36mscatter\u001b[1;34m(x, y, s, c, marker, cmap, norm, vmin, vmax, alpha, linewidths, verts, hold, **kwargs)\u001b[0m\n\u001b[0;32m   3198\u001b[0m         ret = ax.scatter(x, y, s=s, c=c, marker=marker, cmap=cmap, norm=norm,\n\u001b[0;32m   3199\u001b[0m                          \u001b[0mvmin\u001b[0m\u001b[1;33m=\u001b[0m\u001b[0mvmin\u001b[0m\u001b[1;33m,\u001b[0m \u001b[0mvmax\u001b[0m\u001b[1;33m=\u001b[0m\u001b[0mvmax\u001b[0m\u001b[1;33m,\u001b[0m \u001b[0malpha\u001b[0m\u001b[1;33m=\u001b[0m\u001b[0malpha\u001b[0m\u001b[1;33m,\u001b[0m\u001b[1;33m\u001b[0m\u001b[0m\n\u001b[1;32m-> 3200\u001b[1;33m                          linewidths=linewidths, verts=verts, **kwargs)\n\u001b[0m\u001b[0;32m   3201\u001b[0m         \u001b[0mdraw_if_interactive\u001b[0m\u001b[1;33m(\u001b[0m\u001b[1;33m)\u001b[0m\u001b[1;33m\u001b[0m\u001b[0m\n\u001b[0;32m   3202\u001b[0m     \u001b[1;32mfinally\u001b[0m\u001b[1;33m:\u001b[0m\u001b[1;33m\u001b[0m\u001b[0m\n",
        "\u001b[1;32m/opt/anaconda/envs/np18py27-1.9/lib/python2.7/site-packages/matplotlib/axes/_axes.pyc\u001b[0m in \u001b[0;36mscatter\u001b[1;34m(self, x, y, s, c, marker, cmap, norm, vmin, vmax, alpha, linewidths, verts, **kwargs)\u001b[0m\n\u001b[0;32m   3673\u001b[0m             \u001b[0mself\u001b[0m\u001b[1;33m.\u001b[0m\u001b[0mset_ymargin\u001b[0m\u001b[1;33m(\u001b[0m\u001b[1;36m0.05\u001b[0m\u001b[1;33m)\u001b[0m\u001b[1;33m\u001b[0m\u001b[0m\n\u001b[0;32m   3674\u001b[0m \u001b[1;33m\u001b[0m\u001b[0m\n\u001b[1;32m-> 3675\u001b[1;33m         \u001b[0mself\u001b[0m\u001b[1;33m.\u001b[0m\u001b[0madd_collection\u001b[0m\u001b[1;33m(\u001b[0m\u001b[0mcollection\u001b[0m\u001b[1;33m)\u001b[0m\u001b[1;33m\u001b[0m\u001b[0m\n\u001b[0m\u001b[0;32m   3676\u001b[0m         \u001b[0mself\u001b[0m\u001b[1;33m.\u001b[0m\u001b[0mautoscale_view\u001b[0m\u001b[1;33m(\u001b[0m\u001b[1;33m)\u001b[0m\u001b[1;33m\u001b[0m\u001b[0m\n\u001b[0;32m   3677\u001b[0m \u001b[1;33m\u001b[0m\u001b[0m\n",
        "\u001b[1;32m/opt/anaconda/envs/np18py27-1.9/lib/python2.7/site-packages/matplotlib/axes/_base.pyc\u001b[0m in \u001b[0;36madd_collection\u001b[1;34m(self, collection, autolim)\u001b[0m\n\u001b[0;32m   1457\u001b[0m \u001b[1;33m\u001b[0m\u001b[0m\n\u001b[0;32m   1458\u001b[0m         \u001b[1;32mif\u001b[0m \u001b[0mautolim\u001b[0m\u001b[1;33m:\u001b[0m\u001b[1;33m\u001b[0m\u001b[0m\n\u001b[1;32m-> 1459\u001b[1;33m             \u001b[0mself\u001b[0m\u001b[1;33m.\u001b[0m\u001b[0mupdate_datalim\u001b[0m\u001b[1;33m(\u001b[0m\u001b[0mcollection\u001b[0m\u001b[1;33m.\u001b[0m\u001b[0mget_datalim\u001b[0m\u001b[1;33m(\u001b[0m\u001b[0mself\u001b[0m\u001b[1;33m.\u001b[0m\u001b[0mtransData\u001b[0m\u001b[1;33m)\u001b[0m\u001b[1;33m)\u001b[0m\u001b[1;33m\u001b[0m\u001b[0m\n\u001b[0m\u001b[0;32m   1460\u001b[0m \u001b[1;33m\u001b[0m\u001b[0m\n\u001b[0;32m   1461\u001b[0m         \u001b[0mcollection\u001b[0m\u001b[1;33m.\u001b[0m\u001b[0m_remove_method\u001b[0m \u001b[1;33m=\u001b[0m \u001b[1;32mlambda\u001b[0m \u001b[0mh\u001b[0m\u001b[1;33m:\u001b[0m \u001b[0mself\u001b[0m\u001b[1;33m.\u001b[0m\u001b[0mcollections\u001b[0m\u001b[1;33m.\u001b[0m\u001b[0mremove\u001b[0m\u001b[1;33m(\u001b[0m\u001b[0mh\u001b[0m\u001b[1;33m)\u001b[0m\u001b[1;33m\u001b[0m\u001b[0m\n",
        "\u001b[1;32m/opt/anaconda/envs/np18py27-1.9/lib/python2.7/site-packages/matplotlib/collections.pyc\u001b[0m in \u001b[0;36mget_datalim\u001b[1;34m(self, transData)\u001b[0m\n\u001b[0;32m    187\u001b[0m             \u001b[0mtransOffset\u001b[0m \u001b[1;33m=\u001b[0m \u001b[0mtransOffset\u001b[0m\u001b[1;33m.\u001b[0m\u001b[0mget_affine\u001b[0m\u001b[1;33m(\u001b[0m\u001b[1;33m)\u001b[0m\u001b[1;33m\u001b[0m\u001b[0m\n\u001b[0;32m    188\u001b[0m \u001b[1;33m\u001b[0m\u001b[0m\n\u001b[1;32m--> 189\u001b[1;33m         \u001b[0moffsets\u001b[0m \u001b[1;33m=\u001b[0m \u001b[0mnp\u001b[0m\u001b[1;33m.\u001b[0m\u001b[0masanyarray\u001b[0m\u001b[1;33m(\u001b[0m\u001b[0moffsets\u001b[0m\u001b[1;33m,\u001b[0m \u001b[0mnp\u001b[0m\u001b[1;33m.\u001b[0m\u001b[0mfloat_\u001b[0m\u001b[1;33m)\u001b[0m\u001b[1;33m\u001b[0m\u001b[0m\n\u001b[0m\u001b[0;32m    190\u001b[0m         \u001b[1;32mif\u001b[0m \u001b[0mnp\u001b[0m\u001b[1;33m.\u001b[0m\u001b[0mma\u001b[0m\u001b[1;33m.\u001b[0m\u001b[0misMaskedArray\u001b[0m\u001b[1;33m(\u001b[0m\u001b[0moffsets\u001b[0m\u001b[1;33m)\u001b[0m\u001b[1;33m:\u001b[0m\u001b[1;33m\u001b[0m\u001b[0m\n\u001b[0;32m    191\u001b[0m             \u001b[0moffsets\u001b[0m \u001b[1;33m=\u001b[0m \u001b[0moffsets\u001b[0m\u001b[1;33m.\u001b[0m\u001b[0mfilled\u001b[0m\u001b[1;33m(\u001b[0m\u001b[0mnp\u001b[0m\u001b[1;33m.\u001b[0m\u001b[0mnan\u001b[0m\u001b[1;33m)\u001b[0m\u001b[1;33m\u001b[0m\u001b[0m\n",
        "\u001b[1;32m/opt/anaconda/envs/np18py27-1.9/lib/python2.7/site-packages/numpy/core/numeric.pyc\u001b[0m in \u001b[0;36masanyarray\u001b[1;34m(a, dtype, order)\u001b[0m\n\u001b[0;32m    512\u001b[0m \u001b[1;33m\u001b[0m\u001b[0m\n\u001b[0;32m    513\u001b[0m     \"\"\"\n\u001b[1;32m--> 514\u001b[1;33m     \u001b[1;32mreturn\u001b[0m \u001b[0marray\u001b[0m\u001b[1;33m(\u001b[0m\u001b[0ma\u001b[0m\u001b[1;33m,\u001b[0m \u001b[0mdtype\u001b[0m\u001b[1;33m,\u001b[0m \u001b[0mcopy\u001b[0m\u001b[1;33m=\u001b[0m\u001b[0mFalse\u001b[0m\u001b[1;33m,\u001b[0m \u001b[0morder\u001b[0m\u001b[1;33m=\u001b[0m\u001b[0morder\u001b[0m\u001b[1;33m,\u001b[0m \u001b[0msubok\u001b[0m\u001b[1;33m=\u001b[0m\u001b[0mTrue\u001b[0m\u001b[1;33m)\u001b[0m\u001b[1;33m\u001b[0m\u001b[0m\n\u001b[0m\u001b[0;32m    515\u001b[0m \u001b[1;33m\u001b[0m\u001b[0m\n\u001b[0;32m    516\u001b[0m \u001b[1;32mdef\u001b[0m \u001b[0mascontiguousarray\u001b[0m\u001b[1;33m(\u001b[0m\u001b[0ma\u001b[0m\u001b[1;33m,\u001b[0m \u001b[0mdtype\u001b[0m\u001b[1;33m=\u001b[0m\u001b[0mNone\u001b[0m\u001b[1;33m)\u001b[0m\u001b[1;33m:\u001b[0m\u001b[1;33m\u001b[0m\u001b[0m\n",
        "\u001b[1;31mValueError\u001b[0m: could not convert string to float: AccountNo_t"
       ]
      },
      {
       "output_type": "stream",
       "stream": "stderr",
       "text": [
        "/opt/anaconda/envs/np18py27-1.9/lib/python2.7/site-packages/IPython/core/formatters.py:239: FormatterWarning: Exception in image/png formatter: could not convert string to float: AccountNo_t\n",
        "  FormatterWarning,\n"
       ]
      },
      {
       "metadata": {},
       "output_type": "display_data",
       "text": [
        "<matplotlib.figure.Figure at 0x7fad7011f4d0>"
       ]
      }
     ],
     "prompt_number": 1
    },
    {
     "cell_type": "heading",
     "level": 2,
     "metadata": {},
     "source": [
      "Linear Regression"
     ]
    },
    {
     "cell_type": "code",
     "collapsed": false,
     "input": [
      "#http://nbviewer.ipython.org/gist/fonnesbeck/5850463\n",
      "\n",
      "%matplotlib inline\n",
      "import pandas as pd\n",
      "import pylab as pl\n",
      "import matplotlib.pyplot as plt\n",
      "import numpy as np\n",
      "from pandas import *\n",
      "from sklearn import datasets, linear_model\n",
      "\n",
      "# Set some Pandas options\n",
      "pd.set_option('display.notebook_repr_html', False)\n",
      "pd.set_option('display.max_columns', 20)\n",
      "pd.set_option('display.max_rows', 25)\n",
      "\n",
      "#Linear Regression\n",
      "\n",
      "#Load Data Source\n",
      "testdata=pd.read_csv('TestData.csv')\n",
      "\n",
      "#Declare 'fig3' variable assign 'plt.figure()' value\n",
      "fig3 = plt.figure(figsize=(8,4), dpi=200)\n",
      "\n",
      "# Use only one feature\n",
      "#Build Dataframe\n",
      "aml = pd.DataFrame(data = testdata, columns=['Amount_t'])\n",
      "\n",
      "aml_x = aml[:, np.newaxis]\n",
      "aml_x_temp = aml_x[:, :, 2]\n",
      "\n",
      "# Split the data into training/testing sets\n",
      "aml_x_train = aml_x_temp[:-20]\n",
      "aml_x_test = aml_x_temp[-20:]\n",
      "\n",
      "from sklearn.datasets.samples_generator import make_regression\n",
      "\n",
      "# this is our test set, it's just a straight line with some\n",
      "# gaussian noise\n",
      "X, Y = make_regression(n_samples=100, n_features=1, n_informative=1,\\\n",
      "                        random_state=0, noise=35)\n",
      "\n",
      "\n",
      "# Split the targets into training/testing sets\n",
      "aml_y_train = aml.target[:-20]\n",
      "aml_y_test = aml.target[-20:]\n",
      "\n",
      "# Create linear regression object\n",
      "regr = linear_model.LinearRegression()\n",
      "\n",
      "# Train the model using the training sets\n",
      "regr.fit(aml_x_train, aml_x_train)\n",
      "\n",
      "# The coefficients\n",
      "print 'Coefficients: \\n', regr.coef_\n",
      "# The mean square error\n",
      "print (\"Residual sum of squares: %.2f\" %\n",
      "        np.mean((regr.predict(aml_x_test) - aml_y_test) ** 2))\n",
      "# Explained variance score: 1 is perfect prediction\n",
      "print ('Variance score: %.2f' % regr.score(aml_x_test, aml_y_test))\n",
      "\n",
      "\n",
      "# output = CTR[Amount_t['Total'] < 9999.99]\n",
      "#output.plot(kind='bar')\n",
      "\n",
      "#Save fig\n",
      "fig3.savefig(\"fig3.png\", dpi=200)"
     ],
     "language": "python",
     "metadata": {},
     "outputs": [
      {
       "ename": "TypeError",
       "evalue": "unhashable type",
       "output_type": "pyerr",
       "traceback": [
        "\u001b[1;31m---------------------------------------------------------------------------\u001b[0m\n\u001b[1;31mTypeError\u001b[0m                                 Traceback (most recent call last)",
        "\u001b[1;32m<ipython-input-1-553389565a09>\u001b[0m in \u001b[0;36m<module>\u001b[1;34m()\u001b[0m\n\u001b[0;32m     24\u001b[0m \u001b[0maml\u001b[0m \u001b[1;33m=\u001b[0m \u001b[0mpd\u001b[0m\u001b[1;33m.\u001b[0m\u001b[0mDataFrame\u001b[0m\u001b[1;33m(\u001b[0m\u001b[0mdata\u001b[0m \u001b[1;33m=\u001b[0m \u001b[0mtestdata\u001b[0m\u001b[1;33m,\u001b[0m \u001b[0mcolumns\u001b[0m\u001b[1;33m=\u001b[0m\u001b[1;33m[\u001b[0m\u001b[1;34m'Amount_t'\u001b[0m\u001b[1;33m]\u001b[0m\u001b[1;33m)\u001b[0m\u001b[1;33m\u001b[0m\u001b[0m\n\u001b[0;32m     25\u001b[0m \u001b[1;33m\u001b[0m\u001b[0m\n\u001b[1;32m---> 26\u001b[1;33m \u001b[0maml_x\u001b[0m \u001b[1;33m=\u001b[0m \u001b[0maml\u001b[0m\u001b[1;33m[\u001b[0m\u001b[1;33m:\u001b[0m\u001b[1;33m,\u001b[0m \u001b[0mnp\u001b[0m\u001b[1;33m.\u001b[0m\u001b[0mnewaxis\u001b[0m\u001b[1;33m]\u001b[0m\u001b[1;33m\u001b[0m\u001b[0m\n\u001b[0m\u001b[0;32m     27\u001b[0m \u001b[0maml_x_temp\u001b[0m \u001b[1;33m=\u001b[0m \u001b[0maml_x\u001b[0m\u001b[1;33m[\u001b[0m\u001b[1;33m:\u001b[0m\u001b[1;33m,\u001b[0m \u001b[1;33m:\u001b[0m\u001b[1;33m,\u001b[0m \u001b[1;36m2\u001b[0m\u001b[1;33m]\u001b[0m\u001b[1;33m\u001b[0m\u001b[0m\n\u001b[0;32m     28\u001b[0m \u001b[1;33m\u001b[0m\u001b[0m\n",
        "\u001b[1;32m/opt/anaconda/envs/np18py27-1.9/lib/python2.7/site-packages/pandas/core/frame.pyc\u001b[0m in \u001b[0;36m__getitem__\u001b[1;34m(self, key)\u001b[0m\n\u001b[0;32m   1778\u001b[0m             \u001b[1;32mreturn\u001b[0m \u001b[0mself\u001b[0m\u001b[1;33m.\u001b[0m\u001b[0m_getitem_multilevel\u001b[0m\u001b[1;33m(\u001b[0m\u001b[0mkey\u001b[0m\u001b[1;33m)\u001b[0m\u001b[1;33m\u001b[0m\u001b[0m\n\u001b[0;32m   1779\u001b[0m         \u001b[1;32melse\u001b[0m\u001b[1;33m:\u001b[0m\u001b[1;33m\u001b[0m\u001b[0m\n\u001b[1;32m-> 1780\u001b[1;33m             \u001b[1;32mreturn\u001b[0m \u001b[0mself\u001b[0m\u001b[1;33m.\u001b[0m\u001b[0m_getitem_column\u001b[0m\u001b[1;33m(\u001b[0m\u001b[0mkey\u001b[0m\u001b[1;33m)\u001b[0m\u001b[1;33m\u001b[0m\u001b[0m\n\u001b[0m\u001b[0;32m   1781\u001b[0m \u001b[1;33m\u001b[0m\u001b[0m\n\u001b[0;32m   1782\u001b[0m     \u001b[1;32mdef\u001b[0m \u001b[0m_getitem_column\u001b[0m\u001b[1;33m(\u001b[0m\u001b[0mself\u001b[0m\u001b[1;33m,\u001b[0m \u001b[0mkey\u001b[0m\u001b[1;33m)\u001b[0m\u001b[1;33m:\u001b[0m\u001b[1;33m\u001b[0m\u001b[0m\n",
        "\u001b[1;32m/opt/anaconda/envs/np18py27-1.9/lib/python2.7/site-packages/pandas/core/frame.pyc\u001b[0m in \u001b[0;36m_getitem_column\u001b[1;34m(self, key)\u001b[0m\n\u001b[0;32m   1785\u001b[0m         \u001b[1;31m# get column\u001b[0m\u001b[1;33m\u001b[0m\u001b[1;33m\u001b[0m\u001b[0m\n\u001b[0;32m   1786\u001b[0m         \u001b[1;32mif\u001b[0m \u001b[0mself\u001b[0m\u001b[1;33m.\u001b[0m\u001b[0mcolumns\u001b[0m\u001b[1;33m.\u001b[0m\u001b[0mis_unique\u001b[0m\u001b[1;33m:\u001b[0m\u001b[1;33m\u001b[0m\u001b[0m\n\u001b[1;32m-> 1787\u001b[1;33m             \u001b[1;32mreturn\u001b[0m \u001b[0mself\u001b[0m\u001b[1;33m.\u001b[0m\u001b[0m_get_item_cache\u001b[0m\u001b[1;33m(\u001b[0m\u001b[0mkey\u001b[0m\u001b[1;33m)\u001b[0m\u001b[1;33m\u001b[0m\u001b[0m\n\u001b[0m\u001b[0;32m   1788\u001b[0m \u001b[1;33m\u001b[0m\u001b[0m\n\u001b[0;32m   1789\u001b[0m         \u001b[1;31m# duplicate columns & possible reduce dimensionaility\u001b[0m\u001b[1;33m\u001b[0m\u001b[1;33m\u001b[0m\u001b[0m\n",
        "\u001b[1;32m/opt/anaconda/envs/np18py27-1.9/lib/python2.7/site-packages/pandas/core/generic.pyc\u001b[0m in \u001b[0;36m_get_item_cache\u001b[1;34m(self, item)\u001b[0m\n\u001b[0;32m   1054\u001b[0m         \u001b[1;34m\"\"\" return the cached item, item represents a label indexer \"\"\"\u001b[0m\u001b[1;33m\u001b[0m\u001b[0m\n\u001b[0;32m   1055\u001b[0m         \u001b[0mcache\u001b[0m \u001b[1;33m=\u001b[0m \u001b[0mself\u001b[0m\u001b[1;33m.\u001b[0m\u001b[0m_item_cache\u001b[0m\u001b[1;33m\u001b[0m\u001b[0m\n\u001b[1;32m-> 1056\u001b[1;33m         \u001b[0mres\u001b[0m \u001b[1;33m=\u001b[0m \u001b[0mcache\u001b[0m\u001b[1;33m.\u001b[0m\u001b[0mget\u001b[0m\u001b[1;33m(\u001b[0m\u001b[0mitem\u001b[0m\u001b[1;33m)\u001b[0m\u001b[1;33m\u001b[0m\u001b[0m\n\u001b[0m\u001b[0;32m   1057\u001b[0m         \u001b[1;32mif\u001b[0m \u001b[0mres\u001b[0m \u001b[1;32mis\u001b[0m \u001b[0mNone\u001b[0m\u001b[1;33m:\u001b[0m\u001b[1;33m\u001b[0m\u001b[0m\n\u001b[0;32m   1058\u001b[0m             \u001b[0mvalues\u001b[0m \u001b[1;33m=\u001b[0m \u001b[0mself\u001b[0m\u001b[1;33m.\u001b[0m\u001b[0m_data\u001b[0m\u001b[1;33m.\u001b[0m\u001b[0mget\u001b[0m\u001b[1;33m(\u001b[0m\u001b[0mitem\u001b[0m\u001b[1;33m)\u001b[0m\u001b[1;33m\u001b[0m\u001b[0m\n",
        "\u001b[1;31mTypeError\u001b[0m: unhashable type"
       ]
      },
      {
       "metadata": {},
       "output_type": "display_data",
       "text": [
        "<matplotlib.figure.Figure at 0x7f897540abd0>"
       ]
      }
     ],
     "prompt_number": 1
    },
    {
     "cell_type": "heading",
     "level": 2,
     "metadata": {},
     "source": [
      "Test Scatterplot and Distribution Workflow"
     ]
    },
    {
     "cell_type": "code",
     "collapsed": false,
     "input": [
      "#http://nbviewer.ipython.org/gist/fonnesbeck/5850463\n",
      "\n",
      "%matplotlib inline\n",
      "import pandas as pd\n",
      "import pylab\n",
      "import matplotlib.pyplot as plt\n",
      "import numpy as np\n",
      "from pandas import *\n",
      "\n",
      "#Load Data Source\n",
      "testdata=pd.read_csv('TestData.csv')\n",
      "\n",
      "#Build Dataframe\n",
      "df = pd.DataFrame(data = testdata, columns=['AccountNo_t', 'Amount_t'])\n",
      "\n",
      "#Declare 'fig2' variable assign 'plt.figure()' value\n",
      "fig4 = plt.figure(figsize=(8,4), dpi=200)\n",
      "\n",
      "# Set some Pandas options\n",
      "pd.set_option('display.notebook_repr_html', False)\n",
      "pd.set_option('display.max_columns', 20)\n",
      "pd.set_option('display.max_rows', 25)\n",
      "\n",
      "with mpl.rc_context(rc={'font.family': 'serif', 'font.weight': 'bold', 'font.size': 8}):\n",
      "    fig = plt.figure(figsize=(6,3))\n",
      "    ax1 = fig.add_subplot(121)\n",
      "    ax1.set_xlabel('AccountNo')\n",
      "    ax1.set_ylabel('Amount')\n",
      "    ax1.set_title(\"Scatterplot\")\n",
      "    plt.plot(np.random.normal(size=100), np.random.normal(size=100), 'r.')\n",
      "    ax2 = fig.add_subplot(122)\n",
      "    plt.hist(np.random.normal(size=100), bins=15)\n",
      "    ax2.set_xlabel('sample')\n",
      "    ax2.set_ylabel('cumulative sum')\n",
      "    ax2.set_title(\"Normal distrubution\")\n",
      "    plt.tight_layout()\n",
      "    plt.savefig(\"fig4.png\", dpi=200)"
     ],
     "language": "python",
     "metadata": {},
     "outputs": [],
     "prompt_number": 3
    },
    {
     "cell_type": "heading",
     "level": 1,
     "metadata": {},
     "source": [
      "SOLR API"
     ]
    },
    {
     "cell_type": "code",
     "collapsed": false,
     "input": [
      "# https://pypi.python.org/pypi/solrpy/\n",
      "import solr\n",
      "\n",
      "# create a connection to a solr server\n",
      "s = solr.SolrConnection('http://50.255.26.173:8983/solr')\n",
      "\n",
      "# add a document to the index\n",
      "doc = dict(\n",
      "    id=1,\n",
      "    title='Lucene in Action',\n",
      "    author=['Erik Hatcher', 'Otis Gospodneti\u0107'],\n",
      "    )\n",
      "s.add(doc, commit=True)\n",
      "\n",
      "# do a search\n",
      "response = s.query('title:lucene')\n",
      "for hit in response.results:\n",
      "    print hit['title']\n"
     ],
     "language": "python",
     "metadata": {},
     "outputs": []
    },
    {
     "cell_type": "heading",
     "level": 2,
     "metadata": {},
     "source": [
      "Common Logic Framework ISO/IEC 24707"
     ]
    },
    {
     "cell_type": "code",
     "collapsed": false,
     "input": [
      "from IPython.core.display import HTML\n",
      "# http://sourceforge.net/projects/commonlogic/\n",
      "HTML(\"<iframe src=http://sourceforge.net/projects/commonlogic/ width=400 height=350></iframe>\")"
     ],
     "language": "python",
     "metadata": {},
     "outputs": []
    },
    {
     "cell_type": "code",
     "collapsed": false,
     "input": [
      "from IPython.core.display import HTML\n",
      "# http://commonlogic.sourceforge.net/\n",
      "HTML(\"<iframe src=http://commonlogic.sourceforge.net/ width=400 height=350></iframe>\")"
     ],
     "language": "python",
     "metadata": {},
     "outputs": []
    },
    {
     "cell_type": "heading",
     "level": 2,
     "metadata": {},
     "source": [
      "Sandbox"
     ]
    },
    {
     "cell_type": "code",
     "collapsed": false,
     "input": [
      "%matplotlib inline\n",
      "import pandas as pd\n",
      "import pylab as pl\n",
      "import matplotlib.pyplot as plt\n",
      "import numpy as np\n",
      "from pandas import *\n",
      "\n",
      "# Set some Pandas options\n",
      "pd.set_option('display.notebook_repr_html', False)\n",
      "pd.set_option('display.max_columns', 20)\n",
      "pd.set_option('display.max_rows', 25)\n",
      "\n",
      "plt.plot(np.random.normal(size=100), np.random.normal(size=100), 'ro')"
     ],
     "language": "python",
     "metadata": {},
     "outputs": []
    },
    {
     "cell_type": "heading",
     "level": 2,
     "metadata": {},
     "source": [
      "Pandas + Plotly"
     ]
    },
    {
     "cell_type": "code",
     "collapsed": false,
     "input": [
      "from IPython.core.display import HTML\n",
      "#http://nbviewer.ipython.org/gist/nipunreddevil/7734529\n",
      "HTML(\"<iframe src=http://nbviewer.ipython.org/gist/nipunreddevil/7734529 width=400 height=350></iframe>\")"
     ],
     "language": "python",
     "metadata": {},
     "outputs": []
    }
   ],
   "metadata": {}
  }
 ]
}