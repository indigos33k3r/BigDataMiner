{
 "metadata": {
  "name": "",
  "signature": "sha256:cfddd227bfedd639799e6f0ac16ce96927a3d76465327ed424c269b640077aef"
 },
 "nbformat": 3,
 "nbformat_minor": 0,
 "worksheets": [
  {
   "cells": [
    {
     "cell_type": "heading",
     "level": 1,
     "metadata": {},
     "source": [
      "Hadoop Distributed RDF Store"
     ]
    },
    {
     "cell_type": "code",
     "collapsed": false,
     "input": [
      "from IPython.core.display import HTML\n",
      "# https://code.google.com/p/hdrs/\n",
      "HTML(\"<iframe src=https://code.google.com/p/hdrs/ </iframe>\")"
     ],
     "language": "python",
     "metadata": {},
     "outputs": []
    },
    {
     "cell_type": "heading",
     "level": 2,
     "metadata": {},
     "source": [
      "Processing RDF Using Hadoop"
     ]
    },
    {
     "cell_type": "code",
     "collapsed": false,
     "input": [
      "from IPython.core.display import HTML\n",
      "# http://link.springer.com/chapter/10.1007%2F978-3-642-31552-7_40#page-1\n",
      "HTML(\"<iframe src=ttp://link.springer.com/chapter/10.1007%2F978-3-642-31552-7_40#page-1 </iframe>\")"
     ],
     "language": "python",
     "metadata": {},
     "outputs": []
    },
    {
     "cell_type": "heading",
     "level": 2,
     "metadata": {},
     "source": [
      "Spark RDF API (Java)"
     ]
    },
    {
     "cell_type": "code",
     "collapsed": false,
     "input": [
      "from IPython.core.display import HTML\n",
      "# http://grepcode.com/file/repo1.maven.org/maven2/com.revelytix/spark-api/0.1.6/spark/api/rdf/RDFNode.java\n",
      "HTML(\"<iframe src=http://grepcode.com/file/repo1.maven.org/maven2/com.revelytix/spark-api/0.1.6/spark/api/rdf/RDFNode.java </iframe>\")"
     ],
     "language": "python",
     "metadata": {},
     "outputs": []
    },
    {
     "cell_type": "heading",
     "level": 2,
     "metadata": {},
     "source": [
      "Spark Python APIs"
     ]
    },
    {
     "cell_type": "code",
     "collapsed": false,
     "input": [
      "from IPython.core.display import HTML\n",
      "# https://spark.apache.org/docs/latest/api/python/\n",
      "HTML(\"<iframe src=https://spark.apache.org/docs/latest/api/python/ </iframe>\")"
     ],
     "language": "python",
     "metadata": {},
     "outputs": []
    },
    {
     "cell_type": "heading",
     "level": 2,
     "metadata": {},
     "source": [
      "Spark RDF"
     ]
    },
    {
     "cell_type": "code",
     "collapsed": false,
     "input": [
      "from IPython.core.display import HTML\n",
      "# http://ceur-ws.org/Vol-1272/paper_43.pdf\n",
      "HTML(\"<iframe src=http://ceur-ws.org/Vol-1272/paper_43.pdf </iframe>\")"
     ],
     "language": "python",
     "metadata": {},
     "outputs": []
    }
   ],
   "metadata": {}
  }
 ]
}