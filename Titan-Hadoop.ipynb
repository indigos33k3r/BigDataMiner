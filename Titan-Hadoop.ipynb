{
 "metadata": {
  "name": "",
  "signature": "sha256:ef0989bccc6d630eecea21a6a274b89f0b705950306000292435e7421c4caae3"
 },
 "nbformat": 3,
 "nbformat_minor": 0,
 "worksheets": [
  {
   "cells": [
    {
     "cell_type": "heading",
     "level": 1,
     "metadata": {},
     "source": [
      "Titan-Hadoop"
     ]
    },
    {
     "cell_type": "code",
     "collapsed": false,
     "input": [
      "from IPython.core.display import HTML\n",
      "# http://thinkaurelius.github.io/titan/\n",
      "HTML(\"<iframe src=http://thinkaurelius.github.io/titan/ </iframe>\")"
     ],
     "language": "python",
     "metadata": {},
     "outputs": []
    },
    {
     "cell_type": "code",
     "collapsed": false,
     "input": [
      "from IPython.core.display import HTML\n",
      "# https://github.com/thinkaurelius/faunus/wiki/RDF-Format\n",
      "HTML(\"<iframe src=https://github.com/thinkaurelius/faunus/wiki/RDF-Format </iframe>\")"
     ],
     "language": "python",
     "metadata": {},
     "outputs": []
    },
    {
     "cell_type": "code",
     "collapsed": false,
     "input": [
      "# Documentation\n",
      "\n",
      "from IPython.core.display import HTML\n",
      "# http://s3.thinkaurelius.com/docs/titan/0.5.0/\n",
      "HTML(\"<iframe src=http://s3.thinkaurelius.com/docs/titan/0.5.0/ </iframe>\")"
     ],
     "language": "python",
     "metadata": {},
     "outputs": [],
     "prompt_number": 1
    },
    {
     "cell_type": "heading",
     "level": 2,
     "metadata": {},
     "source": [
      "Faunus"
     ]
    },
    {
     "cell_type": "code",
     "collapsed": false,
     "input": [
      "from IPython.core.display import HTML\n",
      "# http://thinkaurelius.github.io/faunus/\n",
      "HTML(\"<iframe src=http://thinkaurelius.github.io/faunus/ </iframe>\")"
     ],
     "language": "python",
     "metadata": {},
     "outputs": []
    }
   ],
   "metadata": {}
  }
 ]
}