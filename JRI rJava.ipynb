{
 "metadata": {
  "name": "",
  "signature": "sha256:af74932dabd74d51479ad39393b13c4de2c1ca6dadf96be0b053ced33cb49217"
 },
 "nbformat": 3,
 "nbformat_minor": 0,
 "worksheets": [
  {
   "cells": [
    {
     "cell_type": "heading",
     "level": 1,
     "metadata": {},
     "source": [
      "JRI rJava"
     ]
    },
    {
     "cell_type": "code",
     "collapsed": false,
     "input": [
      "from IPython.core.display import HTML\n",
      "# http://rforge.net/JRI/\n",
      "HTML(\"<iframe src=http://rforge.net/JRI/ </iframe>\")"
     ],
     "language": "python",
     "metadata": {},
     "outputs": []
    },
    {
     "cell_type": "code",
     "collapsed": false,
     "input": [
      "from IPython.core.display import HTML\n",
      "# http://www.rforge.net/rJava/\n",
      "HTML(\"<iframe src=http://www.rforge.net/rJava// </iframe>\")"
     ],
     "language": "python",
     "metadata": {},
     "outputs": []
    }
   ],
   "metadata": {}
  }
 ]
}