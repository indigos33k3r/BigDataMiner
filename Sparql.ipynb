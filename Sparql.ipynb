{
 "metadata": {
  "name": "",
  "signature": "sha256:ea3fc837dfc0afe4d43658b25122f85e45b78fd255441c9c76975720d48bc2d5"
 },
 "nbformat": 3,
 "nbformat_minor": 0,
 "worksheets": [
  {
   "cells": [
    {
     "cell_type": "heading",
     "level": 1,
     "metadata": {},
     "source": [
      "IPython and Sparql"
     ]
    },
    {
     "cell_type": "code",
     "collapsed": false,
     "input": [
      "from IPython.core.display import HTML\n",
      "# http://stackoverflow.com/questions/24337235/using-ipython-notebook-with-rdflib-to-log-sparql-queries-and-results\n",
      "HTML(\"<iframe src=http://stackoverflow.com/questions/24337235/using-ipython-notebook-with-rdflib-to-log-sparql-queries-and-results/ </iframe>\")"
     ],
     "language": "python",
     "metadata": {},
     "outputs": []
    },
    {
     "cell_type": "code",
     "collapsed": false,
     "input": [
      "%%script bash\n",
      "         arq --data dcam.ttl '\n",
      "         PREFIX rdf:     <http://www.w3.org/1999/02/22-rdf-syntax-ns#>\n",
      "         PREFIX dcam:    <http://purl.org/dc/dcam/>\n",
      "         PREFIX rdfs:    <http://www.w3.org/2000/01/rdf-schema#>\n",
      "\n",
      "         CONSTRUCT\n",
      "         WHERE { ?s rdf:type ?o . }'"
     ],
     "language": "python",
     "metadata": {},
     "outputs": []
    },
    {
     "cell_type": "code",
     "collapsed": false,
     "input": [
      "myquery = \"\"\"\n",
      "          PREFIX rdf:     <http://www.w3.org/1999/02/22-rdf-syntax-ns#>\n",
      "          CONSTRUCT\n",
      "          WHERE {?s rdf:type ?o}\n",
      "          \"\"\""
     ],
     "language": "python",
     "metadata": {},
     "outputs": []
    },
    {
     "cell_type": "code",
     "collapsed": false,
     "input": [
      "def turtleme(myquery):\n",
      "              import rdflib\n",
      "              g = rdflib.Graph()\n",
      "              g.parse('dcam.rdf')\n",
      "              results = g.query(myquery)\n",
      "              print results.serialize(format=\"turtle\")"
     ],
     "language": "python",
     "metadata": {},
     "outputs": []
    },
    {
     "cell_type": "code",
     "collapsed": false,
     "input": [
      "turtleme('dcam.ttl', myquery)"
     ],
     "language": "python",
     "metadata": {},
     "outputs": []
    },
    {
     "cell_type": "code",
     "collapsed": false,
     "input": [],
     "language": "python",
     "metadata": {},
     "outputs": []
    },
    {
     "cell_type": "heading",
     "level": 2,
     "metadata": {},
     "source": [
      "Survey of Pythonic tools for RDF and Linked Data programming"
     ]
    },
    {
     "cell_type": "code",
     "collapsed": false,
     "input": [
      "from IPython.core.display import HTML\n",
      "# http://michelepasin.org/blog/2011/02/24/survey-of-pythonic-tools-for-rdf-and-linked-data-programming/\n",
      "HTML(\"<iframe src=http://michelepasin.org/blog/2011/02/24/survey-of-pythonic-tools-for-rdf-and-linked-data-programming/ </iframe>\")"
     ],
     "language": "python",
     "metadata": {},
     "outputs": []
    },
    {
     "cell_type": "heading",
     "level": 2,
     "metadata": {},
     "source": [
      "RDFLib"
     ]
    },
    {
     "cell_type": "code",
     "collapsed": false,
     "input": [
      "from IPython.core.display import HTML\n",
      "# https://github.com/RDFLib\n",
      "HTML(\"<iframe src=https://github.com/RDFLib </iframe>\")"
     ],
     "language": "python",
     "metadata": {},
     "outputs": []
    }
   ],
   "metadata": {}
  }
 ]
}